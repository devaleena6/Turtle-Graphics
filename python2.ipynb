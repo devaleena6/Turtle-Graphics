{
 "cells": [
  {
   "cell_type": "code",
   "execution_count": 1,
   "id": "8361691d",
   "metadata": {},
   "outputs": [
    {
     "name": "stdout",
     "output_type": "stream",
     "text": [
      "Minimum element: 1, Maximum element: 9\n"
     ]
    }
   ],
   "source": [
    "def find_min_max(arr):\n",
    "    if not arr:\n",
    "        raise ValueError(\"Array is empty\")\n",
    "\n",
    "    min_element = arr[0]\n",
    "    max_element = arr[0]\n",
    "\n",
    "    for num in arr[1:]:\n",
    "        if num < min_element:\n",
    "            min_element = num\n",
    "        if num > max_element:\n",
    "            max_element = num\n",
    "\n",
    "    return min_element, max_element\n",
    "\n",
    "array = [3, 1, 5, 2, 9, 7, 8, 6, 4]\n",
    "min_value, max_value = find_min_max(array)\n",
    "print(f\"Minimum element: {min_value}, Maximum element: {max_value}\")\n"
   ]
  },
  {
   "cell_type": "code",
   "execution_count": 2,
   "id": "532a96e7",
   "metadata": {},
   "outputs": [
    {
     "name": "stdout",
     "output_type": "stream",
     "text": [
      "Average of the array: 3.9444444444444446\n"
     ]
    }
   ],
   "source": [
    "def find_average(arr):\n",
    "    if not arr:\n",
    "        raise ValueError(\"Array is empty\")\n",
    "\n",
    "    if not all(isinstance(num, (int, float)) for num in arr):\n",
    "        raise ValueError(\"Array should only contain numeric values\")\n",
    "\n",
    "    total_sum = sum(arr)\n",
    "    count = len(arr)\n",
    "    \n",
    "    return total_sum / count\n",
    "\n",
    "array = [3, 1.5, -5, 2, 9, 7, 8, 6, 4]\n",
    "average = find_average(array)\n",
    "print(f\"Average of the array: {average}\")\n"
   ]
  },
  {
   "cell_type": "code",
   "execution_count": 3,
   "id": "463398fb",
   "metadata": {},
   "outputs": [
    {
     "name": "stdout",
     "output_type": "stream",
     "text": [
      "Even numbers using comprehension: [2, 8, 6, 4]\n",
      "Even numbers using loop: [2, 8, 6, 4]\n"
     ]
    }
   ],
   "source": [
    "# Method 1: Using List Comprehension\n",
    "def filter_even_numbers_comprehension(arr):\n",
    "    return [num for num in arr if num % 2 == 0]\n",
    "\n",
    "# Method 2: Using a Loop\n",
    "def filter_even_numbers_loop(arr):\n",
    "    even_numbers = []\n",
    "    for num in arr:\n",
    "        if num % 2 == 0:\n",
    "            even_numbers.append(num)\n",
    "    return even_numbers\n",
    "\n",
    "array = [3, 1, 5, 2, 9, 7, 8, 6, 4]\n",
    "\n",
    "# Using list comprehension\n",
    "even_array_comprehension = filter_even_numbers_comprehension(array)\n",
    "print(f\"Even numbers using comprehension: {even_array_comprehension}\")\n",
    "\n",
    "# Using loop\n",
    "even_array_loop = filter_even_numbers_loop(array)\n",
    "print(f\"Even numbers using loop: {even_array_loop}\")\n"
   ]
  },
  {
   "cell_type": "code",
   "execution_count": null,
   "id": "8f5000c6",
   "metadata": {},
   "outputs": [],
   "source": []
  }
 ],
 "metadata": {
  "kernelspec": {
   "display_name": "Python 3 (ipykernel)",
   "language": "python",
   "name": "python3"
  },
  "language_info": {
   "codemirror_mode": {
    "name": "ipython",
    "version": 3
   },
   "file_extension": ".py",
   "mimetype": "text/x-python",
   "name": "python",
   "nbconvert_exporter": "python",
   "pygments_lexer": "ipython3",
   "version": "3.11.7"
  }
 },
 "nbformat": 4,
 "nbformat_minor": 5
}
