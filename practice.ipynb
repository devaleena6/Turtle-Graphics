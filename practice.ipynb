{
 "cells": [
  {
   "cell_type": "code",
   "execution_count": 1,
   "id": "84d5e9e3",
   "metadata": {},
   "outputs": [
    {
     "name": "stdout",
     "output_type": "stream",
     "text": [
      "1 2\n",
      "1 2\n"
     ]
    }
   ],
   "source": [
    "a,b=input().split()\n",
    "print(a,b)"
   ]
  },
  {
   "cell_type": "code",
   "execution_count": 5,
   "id": "256c7675",
   "metadata": {},
   "outputs": [
    {
     "name": "stdout",
     "output_type": "stream",
     "text": [
      "abc cde\n",
      "fg gh hi\n",
      "jk lm nm op\n",
      "abc cde fg gh hi jk lm nm op\n"
     ]
    }
   ],
   "source": [
    "# Update the '_' in the code below\n",
    "\n",
    "A, B = input().split()\n",
    "C, D, E = input().split()\n",
    "F, G, H, I = input().split()\n",
    "print(A, B, C, D, E, F, G, H, I)\n"
   ]
  },
  {
   "cell_type": "code",
   "execution_count": 6,
   "id": "f098a7a4",
   "metadata": {},
   "outputs": [
    {
     "name": "stdout",
     "output_type": "stream",
     "text": [
      "['apple', 'banana', 'orange']\n"
     ]
    }
   ],
   "source": [
    "text = \"apple,banana,orange\"\n",
    "fruits = text.split(',')\n",
    "print(fruits)\n",
    "# Output: ['apple', 'banana', 'orange']\n"
   ]
  },
  {
   "cell_type": "code",
   "execution_count": 7,
   "id": "af79981e",
   "metadata": {},
   "outputs": [
    {
     "name": "stdout",
     "output_type": "stream",
     "text": [
      "5\n",
      "hello\n",
      "5 hello\n"
     ]
    }
   ],
   "source": [
    "# cook your dish here\n",
    "'''\n",
    "integer=line1.split()\n",
    "string=line2.split()\n",
    "\n",
    "A=int(integer[0])\n",
    "B=input(string[0])\n",
    "\n",
    "print(A,B)\n",
    "\n",
    "\n",
    "\n",
    "# Accept an integer input and store it in variable N\n",
    "N = int(input(\"Enter an integer: \"))\n",
    "\n",
    "# Accept a string input and store it in variable S\n",
    "S = input(\"Enter a string: \")\n",
    "\n",
    "# Output the integer and the string on the same line\n",
    "print(N, S)\n",
    "\n",
    "'''\n",
    "\n",
    "\n",
    "# Read the first input and store it in variable N\n",
    "N = int(input().split()[0])\n",
    "\n",
    "# Read the second input and store it in variable S\n",
    "S = input().split()[0]\n",
    "\n",
    "# Output the integer and the string on the same line\n",
    "print(N, S)\n"
   ]
  },
  {
   "cell_type": "code",
   "execution_count": null,
   "id": "192238e7",
   "metadata": {},
   "outputs": [],
   "source": [
    "# accept the count of test cases given in the the 1st line\n",
    "t = int(input())\n",
    "\n",
    "# run a loop to accept 't' inputs\n",
    "for i in range(t):     \n",
    "    N = int(input())      \n",
    "    print(N)\n"
   ]
  }
 ],
 "metadata": {
  "kernelspec": {
   "display_name": "Python 3 (ipykernel)",
   "language": "python",
   "name": "python3"
  },
  "language_info": {
   "codemirror_mode": {
    "name": "ipython",
    "version": 3
   },
   "file_extension": ".py",
   "mimetype": "text/x-python",
   "name": "python",
   "nbconvert_exporter": "python",
   "pygments_lexer": "ipython3",
   "version": "3.11.7"
  }
 },
 "nbformat": 4,
 "nbformat_minor": 5
}
