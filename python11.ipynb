{
 "cells": [
  {
   "cell_type": "code",
   "execution_count": 1,
   "id": "84b3dfb7",
   "metadata": {},
   "outputs": [
    {
     "name": "stdout",
     "output_type": "stream",
     "text": [
      "Make: Toyota, Model: Corolla\n",
      "\n",
      "Make: Honda, Model: Civic\n",
      "Number of doors: 4\n"
     ]
    }
   ],
   "source": [
    "class Vehicle:\n",
    "    def __init__(self, make, model):\n",
    "        self.make = make\n",
    "        self.model = model\n",
    "\n",
    "    def display_info(self):\n",
    "        print(f\"Make: {self.make}, Model: {self.model}\")\n",
    "\n",
    "\n",
    "class Car(Vehicle):\n",
    "    def __init__(self, make, model, number_of_doors):\n",
    "        super().__init__(make, model)\n",
    "        self.number_of_doors = number_of_doors\n",
    "\n",
    "    def display_info(self):\n",
    "        super().display_info()  # Call the base class method to print make and model\n",
    "        print(f\"Number of doors: {self.number_of_doors}\")\n",
    "\n",
    "\n",
    "# Example usage\n",
    "vehicle = Vehicle(\"Toyota\", \"Corolla\")\n",
    "vehicle.display_info()\n",
    "\n",
    "print()\n",
    "\n",
    "car = Car(\"Honda\", \"Civic\", 4)\n",
    "car.display_info()\n"
   ]
  },
  {
   "cell_type": "code",
   "execution_count": 2,
   "id": "aac95cd3",
   "metadata": {},
   "outputs": [
    {
     "name": "stdout",
     "output_type": "stream",
     "text": [
      "Area of the square: 16\n",
      "Area of the circle: 28.274333882308138\n"
     ]
    }
   ],
   "source": [
    "import math\n",
    "\n",
    "class Shape:\n",
    "    def area(self):\n",
    "        raise NotImplementedError(\"Subclasses must implement this method\")\n",
    "\n",
    "class Square(Shape):\n",
    "    def __init__(self, side_length):\n",
    "        self.side_length = side_length\n",
    "\n",
    "    def area(self):\n",
    "        return self.side_length ** 2\n",
    "\n",
    "class Circle(Shape):\n",
    "    def __init__(self, radius):\n",
    "        self.radius = radius\n",
    "\n",
    "    def area(self):\n",
    "        return math.pi * (self.radius ** 2)\n",
    "\n",
    "\n",
    "square = Square(4)\n",
    "print(f\"Area of the square: {square.area()}\")\n",
    "\n",
    "circle = Circle(3)\n",
    "print(f\"Area of the circle: {circle.area()}\")\n"
   ]
  },
  {
   "cell_type": "code",
   "execution_count": 3,
   "id": "87aa5c94",
   "metadata": {},
   "outputs": [
    {
     "name": "stdout",
     "output_type": "stream",
     "text": [
      "The duck flaps its wings and takes off into the sky.\n",
      "The duck paddles gracefully in the water.\n"
     ]
    }
   ],
   "source": [
    "class Flyable:\n",
    "    def fly(self):\n",
    "        raise NotImplementedError(\"Subclasses must implement this method\")\n",
    "\n",
    "class Swimmable:\n",
    "    def swim(self):\n",
    "        raise NotImplementedError(\"Subclasses must implement this method\")\n",
    "\n",
    "class Duck(Flyable, Swimmable):\n",
    "    def fly(self):\n",
    "        print(\"The duck flaps its wings and takes off into the sky.\")\n",
    "\n",
    "    def swim(self):\n",
    "        print(\"The duck paddles gracefully in the water.\")\n",
    "\n",
    "duck = Duck()\n",
    "duck.fly()\n",
    "duck.swim()\n"
   ]
  },
  {
   "cell_type": "code",
   "execution_count": 4,
   "id": "b68cd68d",
   "metadata": {},
   "outputs": [
    {
     "name": "stdout",
     "output_type": "stream",
     "text": [
      "Person - Name: Alice, Age: 30\n",
      "Name: Bob, Age: 20, Student ID: S123456\n"
     ]
    }
   ],
   "source": [
    "class Person:\n",
    "    def __init__(self, name, age):\n",
    "        self.name = name\n",
    "        self.age = age\n",
    "\n",
    "class Student(Person):\n",
    "    def __init__(self, name, age, student_id):\n",
    "        super().__init__(name, age)  # Initialize base class attributes\n",
    "        self.student_id = student_id\n",
    "\n",
    "    def display_info(self):\n",
    "        print(f\"Name: {self.name}, Age: {self.age}, Student ID: {self.student_id}\")\n",
    "\n",
    "person = Person(\"Alice\", 30)\n",
    "print(f\"Person - Name: {person.name}, Age: {person.age}\")\n",
    "\n",
    "student = Student(\"Bob\", 20, \"S123456\")\n",
    "student.display_info()\n"
   ]
  },
  {
   "cell_type": "code",
   "execution_count": null,
   "id": "03f60a4a",
   "metadata": {},
   "outputs": [],
   "source": []
  }
 ],
 "metadata": {
  "kernelspec": {
   "display_name": "Python 3 (ipykernel)",
   "language": "python",
   "name": "python3"
  },
  "language_info": {
   "codemirror_mode": {
    "name": "ipython",
    "version": 3
   },
   "file_extension": ".py",
   "mimetype": "text/x-python",
   "name": "python",
   "nbconvert_exporter": "python",
   "pygments_lexer": "ipython3",
   "version": "3.11.7"
  }
 },
 "nbformat": 4,
 "nbformat_minor": 5
}
